{
  "nbformat": 4,
  "nbformat_minor": 0,
  "metadata": {
    "colab": {
      "name": "LAGR7305_COMP5046_Ass1.ipynb",
      "provenance": [],
      "collapsed_sections": [],
      "toc_visible": true,
      "machine_shape": "hm"
    },
    "kernelspec": {
      "name": "python3",
      "display_name": "Python 3"
    },
    "accelerator": "GPU"
  },
  "cells": [
    {
      "cell_type": "markdown",
      "metadata": {
        "id": "MGHoy6KpQDfZ",
        "colab_type": "text"
      },
      "source": [
        "# COMP5046 Assignment 1\n"
      ]
    },
    {
      "cell_type": "markdown",
      "metadata": {
        "id": "qTf21j_oQIiD",
        "colab_type": "text"
      },
      "source": [
        "# Readme\n",
        ">Drive needs to be mounted which can be done in Model Implementation part using the code to mount the drive. Otherwise it could be manually mounted. The path needs to be set up or modified in the model while saving and/or loading the models.\n",
        "\n",
        ">Training the models is not needed if they are just being loaded and used. However, we need to run the cells related to building the models before loading them so as to establish the model's architecture.\n",
        "\n",
        ">Models are stored at path: gdrive/My Drive/NLP Assignment 1.\n",
        "\n",
        ">After certain trials, 100 batches was found to be not getting affected by memory crashes. However, it still happened once with 100 batches too. If that happens again, please reduce the number of batches to 50 while making the sample for the input batches. [In sequence model (part 2.3) and evaluation (part 3.2)] \n",
        "\n",
        ">The libraries to be imported for the particular segments are listed in the corresponding sections to get a better understanding while avoiding the repetition of imports.\n",
        "\n",
        ">Word embedding model is run using 100 epochs for finalizing the assignment. A reducing loss can be observed. However, it was required for me to run the model again and again due to mistakes made and debugging them, hence 100 epochs are used. If time allows, a higher epoch value could be used to train the model even further. (Though, it should not be too high to avoid over-fitting)."
      ]
    },
    {
      "cell_type": "markdown",
      "metadata": {
        "id": "34DVNKgqQY21",
        "colab_type": "text"
      },
      "source": [
        "# 1 - Data Preprocessing"
      ]
    },
    {
      "cell_type": "markdown",
      "metadata": {
        "id": "7cWUxAQrGlq6",
        "colab_type": "text"
      },
      "source": [
        "## 1.1. Download Dataset"
      ]
    },
    {
      "cell_type": "code",
      "metadata": {
        "id": "U7C4snIcNl22",
        "colab_type": "code",
        "outputId": "d84285ec-acbf-40aa-a1b0-4bedc0840e19",
        "colab": {
          "base_uri": "https://localhost:8080/",
          "height": 51
        }
      },
      "source": [
        "# Code to download file into Colaboratory:\n",
        "!pip install -U -q PyDrive\n",
        "from pydrive.auth import GoogleAuth\n",
        "from pydrive.drive import GoogleDrive\n",
        "from google.colab import auth\n",
        "from oauth2client.client import GoogleCredentials\n",
        "import torch\n",
        "import pandas as pd\n",
        "\n",
        "# Authenticate and create the PyDrive client.\n",
        "auth.authenticate_user()\n",
        "gauth = GoogleAuth()\n",
        "gauth.credentials = GoogleCredentials.get_application_default()\n",
        "drive = GoogleDrive(gauth)\n",
        "\n",
        "#Setting GPU for computation (if available)\n",
        "device = torch.device(\"cuda\" if torch.cuda.is_available() else \"cpu\")\n",
        "\n",
        "id = '1vF3FqgBC1Y-RPefeVmY8zetdZG1jmHzT'\n",
        "downloaded = drive.CreateFile({'id':id}) \n",
        "downloaded.GetContentFile('imdb_train.csv')\n",
        "\n",
        "id = '1XhaV8YMuQeSwozQww8PeyiWMJfia13G6'\n",
        "downloaded = drive.CreateFile({'id':id}) \n",
        "downloaded.GetContentFile('imdb_test.csv')\n",
        "\n",
        "df_train = pd.read_csv(\"imdb_train.csv\")\n",
        "df_test = pd.read_csv(\"imdb_test.csv\")\n",
        "\n",
        "reviews_train = df_train['review'].tolist()\n",
        "sentiments_train = df_train['sentiment'].tolist()\n",
        "reviews_test = df_test['review'].tolist()\n",
        "sentiments_test = df_test['sentiment'].tolist()\n",
        "\n",
        "print(\"Training set number:\",len(reviews_train))\n",
        "print(\"Testing set number:\",len(reviews_test))"
      ],
      "execution_count": 2,
      "outputs": [
        {
          "output_type": "stream",
          "text": [
            "Training set number: 25000\n",
            "Testing set number: 25000\n"
          ],
          "name": "stdout"
        }
      ]
    },
    {
      "cell_type": "markdown",
      "metadata": {
        "id": "l9gBSgBCQh24",
        "colab_type": "text"
      },
      "source": [
        "## 1.2. Preprocess data"
      ]
    },
    {
      "cell_type": "markdown",
      "metadata": {
        "id": "8RdKI8E2KRwe",
        "colab_type": "text"
      },
      "source": [
        ">Case folding: It is done to remove anomalies between occurrences like 'Apple' and 'apple' where the same word could otherwise be considered different if it comes in the starting of the sentence. lower() is used for this purpose.\n",
        "\n",
        ">Punctuation removal: Regex is used to keep only the alphabets and numbers in the data. The whitespace characters are also kept by adding the '\\s' tag. Therefore, all the symbols, phonetic alphabets and special characters are removed.\n",
        "\n",
        ">Tokenization: NLTK 'punkt' is used to tokenize the words of train and test reviews using word_tokenize from nltk.tokenize library. This gives us all the individual words from the reviews that were separated by whitespace into a list.\n",
        "\n",
        ">Stopwords removal: all the stopwords have been removed from the data to remove the words that don't provide much semantic values. 'Stopwords' from nltk.corpus has been used to identify and remove such words from the train and test reviews.\n",
        "\n",
        ">Lemmatization: 'wordnet' lemmatizer is used from nltk.net to convert each word into their lemmas so that words ('run', 'running') having different representations of the same root word could be converted to their root form.\n",
        "\n",
        ">>Stemming: shortens the words by cropping off their prefixes and suffixes. It is not done here as it sometimes leads to words that are not easily interpretable. Since, lemmatization is used which converts the words to their root forms, stemming is not used.\n",
        "\n",
        ">Label Encoding: The labels ('pos', 'neg') are encoded ('0', '1') using Label Encoder from sklearn.preprocessing for ease of computation."
      ]
    },
    {
      "cell_type": "code",
      "metadata": {
        "id": "emyl1lWxGr12",
        "colab_type": "code",
        "outputId": "b8988819-2ee0-4218-d3cf-1f00da81655e",
        "colab": {
          "base_uri": "https://localhost:8080/",
          "height": 119
        }
      },
      "source": [
        "import re\n",
        "import nltk\n",
        "nltk.download('punkt')\n",
        "from nltk.tokenize import word_tokenize\n",
        "nltk.download('stopwords')\n",
        "from nltk.corpus import stopwords as sw\n",
        "nltk.download('wordnet')\n",
        "from nltk.stem import WordNetLemmatizer\n",
        "from sklearn.preprocessing import LabelEncoder\n",
        "import numpy as np\n",
        "\n",
        "#Function using regex to remove punctuations and keep only the letters, numbers and whitespaces\n",
        "def remove_punctuation_re(x):\n",
        "    #Keeping only the lower-case letters and symbols in the data\n",
        "    x = re.sub('[^a-z0-9\\s]','',x)\n",
        "    return x\n",
        "\n",
        "#Doing case folding first and then applying regex:\n",
        "reviews_train = [remove_punctuation_re(s.lower()) for s in reviews_train]\n",
        "reviews_test = [remove_punctuation_re(s.lower()) for s in reviews_test]\n",
        "\n",
        "#Tokenization\n",
        "reviews_train = [word_tokenize(s) for s in reviews_train]\n",
        "reviews_test = [word_tokenize(s) for s in reviews_test]\n",
        "\n",
        "#Removing stopwords\n",
        "stop_words = sw.words()\n",
        "reviews_train_ns=[]\n",
        "for tokens in reviews_train:\n",
        "    filtered_sentence = [w for w in tokens if not w in stop_words]\n",
        "    reviews_train_ns.append(filtered_sentence)\n",
        "reviews_test_ns=[]\n",
        "for tokens in reviews_test:\n",
        "    filtered_sentence = [w for w in tokens if not w in stop_words]\n",
        "    reviews_test_ns.append(filtered_sentence)\n",
        "\n",
        "#Lemmatisation\n",
        "lemmatizer = WordNetLemmatizer()\n",
        "reviews_train_le = []\n",
        "for tokens in reviews_train_ns:\n",
        "    lemma_sentence = [lemmatizer.lemmatize(w) for w in tokens ]\n",
        "    reviews_train_le.append(lemma_sentence)\n",
        "reviews_test_le = []\n",
        "for tokens in reviews_test_ns:\n",
        "    lemma_sentence = [lemmatizer.lemmatize(w) for w in tokens ]\n",
        "    reviews_test_le.append(lemma_sentence)\n",
        "\n",
        "#Label Encoding\n",
        "labels = np.unique(sentiments_train)\n",
        "lEnc = LabelEncoder()\n",
        "lEnc.fit(labels)\n",
        "label_train = lEnc.transform(sentiments_train)\n",
        "label_test = lEnc.transform(sentiments_test)\n",
        "numClass = len(labels)"
      ],
      "execution_count": 3,
      "outputs": [
        {
          "output_type": "stream",
          "text": [
            "[nltk_data] Downloading package punkt to /root/nltk_data...\n",
            "[nltk_data]   Unzipping tokenizers/punkt.zip.\n",
            "[nltk_data] Downloading package stopwords to /root/nltk_data...\n",
            "[nltk_data]   Unzipping corpora/stopwords.zip.\n",
            "[nltk_data] Downloading package wordnet to /root/nltk_data...\n",
            "[nltk_data]   Unzipping corpora/wordnet.zip.\n"
          ],
          "name": "stdout"
        }
      ]
    },
    {
      "cell_type": "markdown",
      "metadata": {
        "id": "LIu_lkJwQ55g",
        "colab_type": "text"
      },
      "source": [
        "# 2 - Model Implementation"
      ]
    },
    {
      "cell_type": "markdown",
      "metadata": {
        "id": "daDvAftceIvr",
        "colab_type": "text"
      },
      "source": [
        "## 2.1. Word Embeddings"
      ]
    },
    {
      "cell_type": "markdown",
      "metadata": {
        "id": "lbzm-NWBTmM-",
        "colab_type": "text"
      },
      "source": [
        ">Skipgram model is used for building the word embeddings because it better captures the infrequent words as compared to the CBOW model. CBOW uses averaging the context vectors which makes it hard to interpret the strong associations between the context and target. Hence, skipgram appears more suitable for the cases with infrequent words.\n",
        "\n",
        "Below are the libraries to be imported for the modelling and for mounting the drive."
      ]
    },
    {
      "cell_type": "code",
      "metadata": {
        "id": "3cM4rlYkHefJ",
        "colab_type": "code",
        "colab": {
          "base_uri": "https://localhost:8080/",
          "height": 122
        },
        "outputId": "ef7a288e-aad2-4a4d-9c72-600b8996a0af"
      },
      "source": [
        "from google.colab import drive\n",
        "import warnings\n",
        "warnings.simplefilter(action='ignore', category=FutureWarning)\n",
        "import torch.nn as nn\n",
        "import torch.optim as optim\n",
        "from random import sample\n",
        "\n",
        "#Mounting G-drive\n",
        "drive.mount('/content/gdrive')"
      ],
      "execution_count": 4,
      "outputs": [
        {
          "output_type": "stream",
          "text": [
            "Go to this URL in a browser: https://accounts.google.com/o/oauth2/auth?client_id=947318989803-6bn6qk8qdgf4n4g3pfee6491hc0brc4i.apps.googleusercontent.com&redirect_uri=urn%3aietf%3awg%3aoauth%3a2.0%3aoob&response_type=code&scope=email%20https%3a%2f%2fwww.googleapis.com%2fauth%2fdocs.test%20https%3a%2f%2fwww.googleapis.com%2fauth%2fdrive%20https%3a%2f%2fwww.googleapis.com%2fauth%2fdrive.photos.readonly%20https%3a%2f%2fwww.googleapis.com%2fauth%2fpeopleapi.readonly\n",
            "\n",
            "Enter your authorization code:\n",
            "··········\n",
            "Mounted at /content/gdrive\n"
          ],
          "name": "stdout"
        }
      ]
    },
    {
      "cell_type": "markdown",
      "metadata": {
        "id": "GXgFpxIgl-_G",
        "colab_type": "text"
      },
      "source": [
        "### 2.1.1. Data Preprocessing for Word Embeddings"
      ]
    },
    {
      "cell_type": "markdown",
      "metadata": {
        "id": "qJrVHGYSmYMg",
        "colab_type": "text"
      },
      "source": [
        ">Complete dataset is used to create word embeddings so as to capture whole of the vocabulary used in the data. (There could be words used in test set but not in train set.) So, embeddings_train consists of the lemmatized data from both train and test set.\n",
        "\n",
        ">Unique words are taken out from the dataset for building the word embeddings.\n",
        "A word dictionary word_dict is also created to refer to each word in the later parts.\n",
        "\n",
        ">Skipgram-tuples are created from the word_sequence with the window size of 2 (1 context word on each side of the target word)."
      ]
    },
    {
      "cell_type": "code",
      "metadata": {
        "id": "3LByzHLiNinu",
        "colab_type": "code",
        "colab": {}
      },
      "source": [
        "#Using complete data (train+test) to create embeddings for each word in the data's vocabulary.\n",
        "embeddings_train = []\n",
        "for i in reviews_train_le:\n",
        "  embeddings_train+=i\n",
        "for i in reviews_test_le:\n",
        "  embeddings_train+=i\n",
        "\n",
        "\n",
        "#Making list of unique words and a dictionary to reference each index of unique word in later parts\n",
        "word_sequence = \" \".join(embeddings_train).split()\n",
        "word_list = \" \".join(embeddings_train).split()\n",
        "word_list = sorted(list(set(word_list)))\n",
        "#Adding 'P' (in upper case) to the word list to reference padded words.\n",
        "word_list.append('P')\n",
        "word_dict = {w: i for i, w in enumerate(word_list)}\n",
        "\n",
        "\n",
        "#Making skip-grams from the words with window size 2 (1 context-word in each direction of target word).\n",
        "skip_grams = []\n",
        "for i in range(1, len(word_sequence) - 1):\n",
        "    target = word_dict[word_sequence[i]]\n",
        "    context = [word_dict[word_sequence[i-1]],word_dict[word_sequence[i+1]]]\n",
        "    for w in context:\n",
        "        skip_grams.append([target, w])"
      ],
      "execution_count": 0,
      "outputs": []
    },
    {
      "cell_type": "markdown",
      "metadata": {
        "id": "qhAgWf_AmbZ8",
        "colab_type": "text"
      },
      "source": [
        "### 2.1.2. Build Word Embeddings Model"
      ]
    },
    {
      "cell_type": "markdown",
      "metadata": {
        "id": "AJ8rU7JbiBVS",
        "colab_type": "text"
      },
      "source": [
        ">The hyperparameters set are:\n",
        "\n",
        "voc_size = len(word_list): outputs from model are the embeddings of the different words in our vocabulary.\n",
        "\n",
        "learning_rate = 0.005: 0.001 was converging very slowly as the skipgram model takes too long to compute, while 0.01 was jumping around a particular loss value being unable to reduce it (the loss was almost stagnant). I also tried the learning rate of 0.1, in which model gave unstable loss. Hence, 0.005 is taken.\n",
        "\n",
        "embedding_size = 100: The number of unique words is of the order of 168k (168 thousands). Hence, 100 features are used to create their embeddings. \n",
        "\n",
        ">Random batches are made to be input to the model from the skip-gram tuples.\n",
        "\n",
        ">CrossEntropy Loss and Adam optimizer are used to create the loss and optimize while training the model where CrossEntropy loss calculates the loss of the classification problem and Adam optimizer tries to optimize it faster while considering the history as well."
      ]
    },
    {
      "cell_type": "code",
      "metadata": {
        "id": "TVPuwWgvNjOU",
        "colab_type": "code",
        "colab": {}
      },
      "source": [
        "#Hyperparameters\n",
        "voc_size = len(word_list)\n",
        "learning_rate = 0.01\n",
        "embedding_size = 100\n",
        "\n",
        "def prepare_batch(data): #Function to randomly prepare batch from the data we have (to save computational time)\n",
        "    random_inputs = []\n",
        "    random_labels = []\n",
        "    for i in range(len(data)):\n",
        "        input_temp = [0]*voc_size\n",
        "        input_temp[data[i][0]] = 1\n",
        "        random_inputs.append(input_temp)  # target\n",
        "        random_labels.append(data[i][1])  # context word\n",
        "    return np.array(random_inputs), np.array(random_labels)\n",
        "\n",
        "class SkipGram(nn.Module):\n",
        "    def __init__(self):\n",
        "        super(SkipGram, self).__init__()\n",
        "        self.linear1 = nn.Linear(voc_size, embedding_size, bias=False)\n",
        "        self.linear2 = nn.Linear(embedding_size, voc_size, bias=False)\n",
        "    def forward(self, x):\n",
        "        hidden = self.linear1(x)\n",
        "        out = self.linear2(hidden)\n",
        "        return out\n",
        "\n",
        "skip_gram_model = SkipGram()\n",
        "criterion = nn.CrossEntropyLoss()\n",
        "optimiser = optim.Adam(skip_gram_model.parameters(), lr=learning_rate)"
      ],
      "execution_count": 0,
      "outputs": []
    },
    {
      "cell_type": "markdown",
      "metadata": {
        "id": "LNys5HOdISK-",
        "colab_type": "text"
      },
      "source": [
        "### 2.1.3. Train Word Embeddings Model"
      ]
    },
    {
      "cell_type": "markdown",
      "metadata": {
        "id": "QTWiaoG0bg8j",
        "colab_type": "text"
      },
      "source": [
        ">The input for the model is created by first taking a subset of 1000 tuples from the skip-gram tuples by using sample() from random library. \n",
        "This subset is then used to prepare batches to be fed to the model. The batches are generated by taking random tuples from the subset and one-hot encoding them.\n",
        "\n",
        ">The loss is displayed after every 10 epochs and model is trained upto 100 epochs. The number of epochs was decided upon by considering the computation time being required by the model. After 100 epochs, model shows some convergence. Hence, 100 is used as the optimal value.\n",
        "\n",
        ">trained_embeddings consist of the final embeddings resulted from the model."
      ]
    },
    {
      "cell_type": "code",
      "metadata": {
        "id": "Ae8i7Z2kIef-",
        "colab_type": "code",
        "outputId": "70e648bd-8ec6-47f8-f1c0-be99ae919fd2",
        "colab": {
          "base_uri": "https://localhost:8080/",
          "height": 187
        }
      },
      "source": [
        "for epoch in range(100):\n",
        "    i = sample(skip_grams,1000)\n",
        "    inputs,labels = prepare_batch(i)\n",
        "    inputs_torch = torch.from_numpy(inputs).float()\n",
        "    labels_torch = torch.from_numpy(labels)\n",
        "\n",
        "    optimiser.zero_grad()    \n",
        "    outputs = skip_gram_model(inputs_torch)\n",
        "\n",
        "    loss = criterion(outputs, labels_torch)\n",
        "    loss.backward()\n",
        "    optimiser.step()\n",
        "    \n",
        "    if epoch%10==9:\n",
        "      print('Epoch: %d, loss: %f' %(epoch + 1, loss))\n",
        "\n",
        "weight1 = skip_gram_model.linear1.weight\n",
        "trained_embeddings = weight1.detach().T.numpy()"
      ],
      "execution_count": 11,
      "outputs": [
        {
          "output_type": "stream",
          "text": [
            "Epoch: 10, loss: 12.021664\n",
            "Epoch: 20, loss: 11.797174\n",
            "Epoch: 30, loss: 10.846331\n",
            "Epoch: 40, loss: 10.133338\n",
            "Epoch: 50, loss: 9.775879\n",
            "Epoch: 60, loss: 9.461576\n",
            "Epoch: 70, loss: 9.503631\n",
            "Epoch: 80, loss: 9.483437\n",
            "Epoch: 90, loss: 9.309270\n",
            "Epoch: 100, loss: 9.358898\n"
          ],
          "name": "stdout"
        }
      ]
    },
    {
      "cell_type": "markdown",
      "metadata": {
        "id": "uMCv3YI1IfUo",
        "colab_type": "text"
      },
      "source": [
        "### 2.1.4. Save Word Embeddings Model"
      ]
    },
    {
      "cell_type": "code",
      "metadata": {
        "id": "3OwicNPkIqd1",
        "colab_type": "code",
        "outputId": "482f877e-5946-4247-a3b7-bb2d6fa48de1",
        "colab": {
          "base_uri": "https://localhost:8080/",
          "height": 51
        }
      },
      "source": [
        "torch.save(skip_gram_model, \"gdrive/My Drive/NLP Assignment 1/word_embeddings.pt\")"
      ],
      "execution_count": 12,
      "outputs": [
        {
          "output_type": "stream",
          "text": [
            "/usr/local/lib/python3.6/dist-packages/torch/serialization.py:360: UserWarning: Couldn't retrieve source code for container of type SkipGram. It won't be checked for correctness upon loading.\n",
            "  \"type \" + obj.__name__ + \". It won't be checked \"\n"
          ],
          "name": "stderr"
        }
      ]
    },
    {
      "cell_type": "markdown",
      "metadata": {
        "id": "Yn16xrDrIs8B",
        "colab_type": "text"
      },
      "source": [
        "### 2.1.5. Load Word Embeddings Model"
      ]
    },
    {
      "cell_type": "code",
      "metadata": {
        "id": "-IebpYFsIvgh",
        "colab_type": "code",
        "colab": {}
      },
      "source": [
        "word_emb_model = torch.load(\"gdrive/My Drive/NLP Assignment 1/word_embeddings.pt\")\n",
        "weight1 = word_emb_model.linear1.weight\n",
        "trained_embeddings = weight1.detach().T.numpy()"
      ],
      "execution_count": 0,
      "outputs": []
    },
    {
      "cell_type": "markdown",
      "metadata": {
        "colab_type": "text",
        "id": "T0ap96aeGlIk"
      },
      "source": [
        "## 2.2. Character Embeddings"
      ]
    },
    {
      "cell_type": "markdown",
      "metadata": {
        "colab_type": "text",
        "id": "d16v3oKaGlI0"
      },
      "source": [
        "### 2.2.1. Data Preprocessing for Character Embeddings"
      ]
    },
    {
      "cell_type": "markdown",
      "metadata": {
        "colab_type": "text",
        "id": "AKbLnN-3GlI1"
      },
      "source": [
        ">Each character was stripped from the tokenized words to obtain unique characters (set(character_array)). \n",
        "\n",
        ">A character dictionary is created to index the distinct characters for the purpose of one-hot encoding. A padding character is also appended to the list of unique characters so as to be included in the character dictionary.\n",
        "\n",
        ">Before one-hot encoding each word is padded by extra characters to make them of the same length as the length of the longest word in the word_list (set of unique words)\n",
        "\n",
        ">The target labels are also mapped by the make_batch function along with the padded one-hot encoded vectors of the input."
      ]
    },
    {
      "cell_type": "code",
      "metadata": {
        "id": "HL9KKPZZl20S",
        "colab_type": "code",
        "colab": {}
      },
      "source": [
        "from sklearn.metrics import accuracy_score\n",
        "\n",
        "\n",
        "#Building character dictionary and enumerating characters\n",
        "char_arr=[]\n",
        "for wordtoken in word_list:\n",
        "  for char in wordtoken:\n",
        "    char_arr.append(char)\n",
        "char_dic = {n: i for i, n in enumerate(sorted(list(set(char_arr))))}\n",
        "input_data = [char_dic[n] for n in char_dic]\n",
        "\n",
        "\n",
        "#Setting maximum word length to use for padding the words having less number of characters\n",
        "max_word_length = len(max(word_list, key = len))\n",
        "\n",
        "\n",
        "#Function to add padding\n",
        "def add_paddings(word):\n",
        "    diff = max_word_length - len(word)\n",
        "    for x in range(diff):\n",
        "        word += \"P\"\n",
        "    return word\n",
        "\n",
        "\n",
        "#Function to make 'one-hot encoded' input batches from data of 'padded' words. It also maps the target to the corresponding word embedding obtained from previous skip-gram model.\n",
        "def make_batch(seq_data):\n",
        "  input_batch=[]\n",
        "  target_batch=[]\n",
        "  for seq in seq_data:\n",
        "    input_word = add_paddings(seq)\n",
        "    input_data = [char_dic[n] for n in input_word]\n",
        "    transformed_word = np.eye(len(char_dic))[input_data]\n",
        "    input_batch.append(transformed_word)\n",
        "    target_data = trained_embeddings[word_dict[seq]]\n",
        "    target_batch.append(target_data)\n",
        "  return input_batch, target_batch"
      ],
      "execution_count": 0,
      "outputs": []
    },
    {
      "cell_type": "markdown",
      "metadata": {
        "colab_type": "text",
        "id": "zgiOPcsTGlI6"
      },
      "source": [
        "### 2.2.2. Build Character Embeddings Model"
      ]
    },
    {
      "cell_type": "markdown",
      "metadata": {
        "colab_type": "text",
        "id": "4NtqFFcjGlI7"
      },
      "source": [
        ">The hyperparameters are:\n",
        "\n",
        "n_input = len(char_dic): identifying the representation of each character as one-hot vector of 37 length (includes the Padding too).\n",
        "\n",
        "n_hidden = embedding_size/2 : because the embedding shape of the model is to be made similar to the output of word embeddings model. Hence, we make use of the same embedding_size given to the word embeddings model. The Bi-LSTM model outputs n_hidden*2 dimensions, so it is halved here. (*This also acts as a limitation, where the value of embedding_size should be an even number.)\n",
        "\n",
        "n_step: max_word_length: The model takes one word at a time character-by-character. Each word is represented by padded characters equal to the length of maximum word length.\n",
        "\n",
        ">The number of classes in the model is taken as the vocabulary size (number of unique words in the data). \n",
        "\n",
        ">Another linear layer is applied to convert the data into the desired format.\n",
        "\n",
        ">Loss is computed using MSE and optimized using the Adam optimizer.\n",
        "\n",
        ">Dropout of 0.2 is also used to induce "
      ]
    },
    {
      "cell_type": "code",
      "metadata": {
        "colab_type": "code",
        "id": "jj3YZ3PWGlI8",
        "outputId": "136db4cd-2446-4b67-c86e-be18be7cb625",
        "colab": {
          "base_uri": "https://localhost:8080/",
          "height": 71
        }
      },
      "source": [
        "n_input = len(char_dic) #Features of the 1-hot encoded characters = length of character dictionary.\n",
        "n_hidden = int(embedding_size/2) #To make it the same dimension as word-embeddings\n",
        "total_epoch = 500\n",
        "learning_rate = 0.005\n",
        "n_step = max_word_length\n",
        "\n",
        "#n_class = voc_size     =>  Number of classes = vocabulary size = Number of unique words in the vocabulary\n",
        "\n",
        "class Net(nn.Module):\n",
        "    def __init__(self):\n",
        "        super(Net, self).__init__()\n",
        "        self.lstm = nn.LSTM(n_input, n_hidden, batch_first =True,bidirectional=True, dropout=0.2)\n",
        "        self.linear = nn.Linear((n_hidden*2),voc_size)\n",
        "        self.linear1 = nn.Linear(voc_size,(n_hidden*2))\n",
        "    def forward(self, sentence):\n",
        "        lstm_out, (h_n,c_n) = self.lstm(sentence)\n",
        "        hidden_out =torch.cat((h_n[0,:,:],h_n[1,:,:]),1)\n",
        "        z = self.linear(hidden_out)\n",
        "        z1 = self.linear1(z)\n",
        "        return z1,hidden_out\n",
        "\n",
        "net = Net()\n",
        "criterion = nn.MSELoss()\n",
        "optimizer = optim.Adam(net.parameters(), lr=learning_rate)"
      ],
      "execution_count": 15,
      "outputs": [
        {
          "output_type": "stream",
          "text": [
            "/usr/local/lib/python3.6/dist-packages/torch/nn/modules/rnn.py:50: UserWarning: dropout option adds dropout after all but last recurrent layer, so non-zero dropout expects num_layers greater than 1, but got dropout=0.2 and num_layers=1\n",
            "  \"num_layers={}\".format(dropout, num_layers))\n"
          ],
          "name": "stderr"
        }
      ]
    },
    {
      "cell_type": "markdown",
      "metadata": {
        "colab_type": "text",
        "id": "46W0zFfWGlI_"
      },
      "source": [
        "###2.2.3. Train Character Embeddings Model"
      ]
    },
    {
      "cell_type": "markdown",
      "metadata": {
        "id": "KGOdhNYZgdg8",
        "colab_type": "text"
      },
      "source": [
        ">The input for the model is created by first taking a subset of 100 words from the word_list by using sample() from random library. This subset is then used to prepare batches to be fed to the model. The sub-set of the words taken for input is padded and one-hot encoded before feeding it to the model.\n",
        "\n",
        ">The word embeddings obtained in the previous word embedding Skipgram model are set as the target batch for calculating the loss. The embeddings output from the Bi-LSTM model are compared with the Skipgram's word-embeddings to calculate loss and thus train the model by trying to minimize the loss.\n",
        "\n",
        ">The loss is displayed after every 10 epochs and model is trained upto total_epoch set earlier as 500.\n",
        "\n",
        ">The weights from the last linear layer are extracted to obtain the character-based word embeddings for the data."
      ]
    },
    {
      "cell_type": "code",
      "metadata": {
        "colab_type": "code",
        "id": "UWQn-VyNGlJA",
        "outputId": "d74a1dc9-3944-4ef4-edc7-5983515642f3",
        "colab": {
          "base_uri": "https://localhost:8080/",
          "height": 884
        }
      },
      "source": [
        "for epoch in range(total_epoch):  \n",
        "    \n",
        "    word_list_batched = sample(word_list,100)\n",
        "    char_emb_input, char_emb_target = make_batch(word_list_batched)\n",
        "    input_batch_torch = torch.from_numpy(np.array(char_emb_input)).float()\n",
        "    target_batch_torch = torch.from_numpy(np.array(char_emb_target))\n",
        "    \n",
        "    # Set the flag to training\n",
        "    net.train()\n",
        "    \n",
        "    outputs,_ = net(input_batch_torch) \n",
        "    loss = criterion(outputs, target_batch_torch)\n",
        "    loss.backward()\n",
        "    optimizer.step()\n",
        "    optimizer.zero_grad()\n",
        "\n",
        "    # Setting the flag to evaluation (therefore turning off the dropout)\n",
        "    net.eval()\n",
        "    outputs,_ = net(input_batch_torch) \n",
        "    \n",
        "    # Evaluation loss and accuracy calculation\n",
        "    loss = criterion(outputs, target_batch_torch)\n",
        "    if epoch % 10 == 9: \n",
        "        print('Epoch: %d, loss: %f' %(epoch + 1, loss.item()))\n",
        "    #print(epoch, loss.item())\n",
        "print('Finished Training')"
      ],
      "execution_count": 16,
      "outputs": [
        {
          "output_type": "stream",
          "text": [
            "Epoch: 10, loss: 168.304306\n",
            "Epoch: 20, loss: 2.434288\n",
            "Epoch: 30, loss: 1.956153\n",
            "Epoch: 40, loss: 0.598500\n",
            "Epoch: 50, loss: 0.305499\n",
            "Epoch: 60, loss: 0.098191\n",
            "Epoch: 70, loss: 0.081538\n",
            "Epoch: 80, loss: 0.048041\n",
            "Epoch: 90, loss: 0.035577\n",
            "Epoch: 100, loss: 0.023863\n",
            "Epoch: 110, loss: 0.014592\n",
            "Epoch: 120, loss: 0.010591\n",
            "Epoch: 130, loss: 0.008607\n",
            "Epoch: 140, loss: 0.007489\n",
            "Epoch: 150, loss: 0.011681\n",
            "Epoch: 160, loss: 0.008625\n",
            "Epoch: 170, loss: 0.009327\n",
            "Epoch: 180, loss: 0.007748\n",
            "Epoch: 190, loss: 0.008110\n",
            "Epoch: 200, loss: 0.007973\n",
            "Epoch: 210, loss: 0.006469\n",
            "Epoch: 220, loss: 0.004910\n",
            "Epoch: 230, loss: 0.006881\n",
            "Epoch: 240, loss: 0.005288\n",
            "Epoch: 250, loss: 0.005621\n",
            "Epoch: 260, loss: 0.006715\n",
            "Epoch: 270, loss: 0.003636\n",
            "Epoch: 280, loss: 0.005267\n",
            "Epoch: 290, loss: 0.005696\n",
            "Epoch: 300, loss: 0.004913\n",
            "Epoch: 310, loss: 0.005531\n",
            "Epoch: 320, loss: 0.005563\n",
            "Epoch: 330, loss: 0.003791\n",
            "Epoch: 340, loss: 0.005074\n",
            "Epoch: 350, loss: 0.004087\n",
            "Epoch: 360, loss: 0.003252\n",
            "Epoch: 370, loss: 0.005300\n",
            "Epoch: 380, loss: 0.003932\n",
            "Epoch: 390, loss: 0.003753\n",
            "Epoch: 400, loss: 0.006691\n",
            "Epoch: 410, loss: 0.003329\n",
            "Epoch: 420, loss: 0.003728\n",
            "Epoch: 430, loss: 0.003194\n",
            "Epoch: 440, loss: 0.002570\n",
            "Epoch: 450, loss: 0.003855\n",
            "Epoch: 460, loss: 0.003823\n",
            "Epoch: 470, loss: 0.003807\n",
            "Epoch: 480, loss: 0.003917\n",
            "Epoch: 490, loss: 0.002077\n",
            "Epoch: 500, loss: 0.001913\n",
            "Finished Training\n"
          ],
          "name": "stdout"
        }
      ]
    },
    {
      "cell_type": "markdown",
      "metadata": {
        "colab_type": "text",
        "id": "R5Bym9bBGlJE"
      },
      "source": [
        "### 2.2.4 Save Character Embeddings Model"
      ]
    },
    {
      "cell_type": "code",
      "metadata": {
        "colab_type": "code",
        "id": "ggTsYIm7GlJF",
        "outputId": "ff07ed06-aded-4ee8-df94-380a905acb56",
        "colab": {
          "base_uri": "https://localhost:8080/",
          "height": 51
        }
      },
      "source": [
        "torch.save(net, \"gdrive/My Drive/NLP Assignment 1/character_word_embeddings.pt\")"
      ],
      "execution_count": 17,
      "outputs": [
        {
          "output_type": "stream",
          "text": [
            "/usr/local/lib/python3.6/dist-packages/torch/serialization.py:360: UserWarning: Couldn't retrieve source code for container of type Net. It won't be checked for correctness upon loading.\n",
            "  \"type \" + obj.__name__ + \". It won't be checked \"\n"
          ],
          "name": "stderr"
        }
      ]
    },
    {
      "cell_type": "markdown",
      "metadata": {
        "colab_type": "text",
        "id": "JwOI-wIKGlJI"
      },
      "source": [
        "### 2.2.5. Load Character Embeddings Model"
      ]
    },
    {
      "cell_type": "code",
      "metadata": {
        "id": "4-jyj-lOHWWj",
        "colab_type": "code",
        "colab": {}
      },
      "source": [
        "char_emb_model = torch.load(\"gdrive/My Drive/NLP Assignment 1/character_word_embeddings.pt\")"
      ],
      "execution_count": 0,
      "outputs": []
    },
    {
      "cell_type": "markdown",
      "metadata": {
        "id": "tlCeWT8eeLnd",
        "colab_type": "text"
      },
      "source": [
        "## 2.3. Sequence model"
      ]
    },
    {
      "cell_type": "markdown",
      "metadata": {
        "id": "fwA-NN3EJ4Ig",
        "colab_type": "text"
      },
      "source": [
        "### 2.3.1. Apply/Import Word Embedding and Character Embedding Model"
      ]
    },
    {
      "cell_type": "markdown",
      "metadata": {
        "id": "UAMJrxx-iOVn",
        "colab_type": "text"
      },
      "source": [
        ">The embeddings are captured from the loaded word-embeddings model and the character-based word embeddings model.\n",
        "\n",
        ">Both the embeddings are concatenated. So, this gives us final embeddings of the shape (embedding_size*2) where embedding_size is the number of features defined at the time of word embeddings."
      ]
    },
    {
      "cell_type": "code",
      "metadata": {
        "id": "g7PKX1gIePA2",
        "colab_type": "code",
        "colab": {}
      },
      "source": [
        "import torch.nn.functional as F\n",
        "from sklearn.metrics import accuracy_score\n",
        "\n",
        "\n",
        "weight1 = word_emb_model.linear1.weight\n",
        "w2v_embeddings = weight1.detach().T.numpy()\n",
        "\n",
        "weight2 = char_emb_model.linear1.weight\n",
        "c2v_embeddings = weight2.detach().T.numpy()\n",
        "\n",
        "embeddings= np.concatenate((w2v_embeddings,c2v_embeddings),1) #Assuming the order of w2v_embeddings and c2v_embeddings is same.\n",
        "\n",
        "\n",
        "#Padding the input reviews to match the sentence with the maximum length\n",
        "max_sent_length = len(max(reviews_train_le, key = len)) #Limit of adding_paddings set to the max_sentence_length of the train_data.\n",
        "def sent_paddings(sent):\n",
        "    diff = max_sent_length - len(sent)\n",
        "    for x in range(diff):\n",
        "        sent += \"P\"\n",
        "    return sent\n",
        "\n",
        "\n",
        "reviews_data = reviews_train_le+reviews_test_le\n",
        "labels_data=label_train.tolist()+label_test.tolist()\n",
        "\n",
        "\n",
        "#Function to get the padded data and its corresponding labels for the purpose of inputting to the model\n",
        "def sent_batch(seq_data):\n",
        "  input_data=[]\n",
        "  input_sent = [sent_paddings(sent) for sent in seq_data]\n",
        "  for i in input_sent:\n",
        "    input_data.append([embeddings[word_dict[word]] for word in i])\n",
        "  target_data = [labels_data[reviews_data.index(sent)] for sent in seq_data]\n",
        "  return input_data, target_data"
      ],
      "execution_count": 0,
      "outputs": []
    },
    {
      "cell_type": "markdown",
      "metadata": {
        "id": "DpYCL17JKZxl",
        "colab_type": "text"
      },
      "source": [
        "### 2.3.2. Build Sequence Model"
      ]
    },
    {
      "cell_type": "markdown",
      "metadata": {
        "id": "R204UIyDKhZ4",
        "colab_type": "text"
      },
      "source": [
        ">The hyper-parameters are:\n",
        "\n",
        "Total_epoch = 1000. To save some computational time, 1000 has been set as the parameter.\n",
        "\n",
        "Learning rate = 0.005: At 1000 epochs, it gave better results than 0.01 and 0.001. (Although 0.001 seemed to work out as well if number of epochs were more).\n",
        "\n",
        "n_step = max_sent_length: At each time step, we are passing one review. The reviews have been padded to the length of the longest review. Hence, n_step is equal to the padded length of each review (denoted by max_sent_length).\n",
        "\n",
        "n_input = embeddings.shape[1]. This is the number of features contained by the concatenated embeddings, which is now embeddings_size*2 (=200 here).\n",
        "\n",
        "n_class = numClass. The output of the model is to predict either class from the given labels ('pos', 'neg'). Hence, n-class = number of the classes.\n",
        "\n",
        "n_hidden = While taking bigger batch size (of 500), memory was crashing. After some random hit-and-trial, 128 was found to be sending least-sized data. Hence, taken as 128.\n",
        "\n",
        ">NLL Loss is calculated and Adam optimizer is used to backpropagate and minimize the loss."
      ]
    },
    {
      "cell_type": "code",
      "metadata": {
        "id": "13eCtR_SLUG6",
        "colab_type": "code",
        "outputId": "08610bf6-113f-4de9-c7d2-c8eaaeb46050",
        "colab": {
          "base_uri": "https://localhost:8080/",
          "height": 71
        }
      },
      "source": [
        "#Hyperparameters\n",
        "learning_rate = 0.005\n",
        "total_epoch = 1000\n",
        "n_input = embeddings.shape[1]\n",
        "n_hidden = 128\n",
        "n_class = numClass\n",
        "#n_step = max_sent_length = length of each review after padding\n",
        "\n",
        "\n",
        "\n",
        "class SeqNet(nn.Module):\n",
        "    def __init__(self):\n",
        "        super(SeqNet, self).__init__()\n",
        "        self.lstm = nn.LSTM(n_input, n_hidden, batch_first =True,bidirectional=True, dropout=0.2)\n",
        "        self.linear = nn.Linear(n_hidden*2,n_class)\n",
        "\n",
        "    def forward(self, sentence):\n",
        "        \n",
        "        lstm_out, (h_n,c_n) = self.lstm(sentence)\n",
        "        hidden_out =torch.cat((h_n[0,:,:],h_n[1,:,:]),1)\n",
        "        z = self.linear(hidden_out)\n",
        "        log_output = F.log_softmax(z, dim=1)\n",
        "        return log_output,hidden_out\n",
        "\n",
        "# Move the model to GPU\n",
        "net2 = SeqNet().to(device)\n",
        "# Loss function and optimizer\n",
        "criterion = nn.NLLLoss()\n",
        "optimizer = optim.Adam(net2.parameters(), lr=learning_rate)"
      ],
      "execution_count": 56,
      "outputs": [
        {
          "output_type": "stream",
          "text": [
            "/usr/local/lib/python3.6/dist-packages/torch/nn/modules/rnn.py:50: UserWarning: dropout option adds dropout after all but last recurrent layer, so non-zero dropout expects num_layers greater than 1, but got dropout=0.2 and num_layers=1\n",
            "  \"num_layers={}\".format(dropout, num_layers))\n"
          ],
          "name": "stderr"
        }
      ]
    },
    {
      "cell_type": "markdown",
      "metadata": {
        "id": "6BaOiaGRLW7R",
        "colab_type": "text"
      },
      "source": [
        "### 2.3.3. Train Sequence Model"
      ]
    },
    {
      "cell_type": "markdown",
      "metadata": {
        "id": "Wxa_eB4Trm5o",
        "colab_type": "text"
      },
      "source": [
        ">A subset of 100 reviews from the train-dataset is taken. The reviews are padded and the words in the reviews are mapped to their embeddings before being fed to the model.\n",
        "\n",
        ">The labels associated with each review are taken as the target batch for the model to calculate the loss. \n",
        "\n",
        ">The loss is displayed after every 10 epochs and model is trained upto total_epoch set earlier as 1000.\n",
        "\n",
        ">Outputs from the log_softmax layer are used to predict the labels and thereby calculating accuracy score."
      ]
    },
    {
      "cell_type": "code",
      "metadata": {
        "id": "lVQnUSX1LZ6C",
        "colab_type": "code",
        "outputId": "9c2cc28e-d8e6-4c0c-8339-bfa5e6c771cd",
        "colab": {
          "base_uri": "https://localhost:8080/",
          "height": 1000
        }
      },
      "source": [
        "for epoch in range(total_epoch):\n",
        "\n",
        "    sent_list_batched = sample(reviews_train_le,100)\n",
        "    seq_train_input, seq_train_target = sent_batch(sent_list_batched)\n",
        "    input_batch_torch = torch.from_numpy(np.array(seq_train_input)).float().to(device)\n",
        "    target_batch_torch = torch.from_numpy(np.array(seq_train_target)).view(-1).to(device)\n",
        "\n",
        "    # Flag set to training\n",
        "    net2.train()\n",
        "    \n",
        "    outputs,_ = net2(input_batch_torch) \n",
        "    loss = criterion(outputs, target_batch_torch)\n",
        "    loss.backward()\n",
        "    optimizer.step()\n",
        "    optimizer.zero_grad()\n",
        "\n",
        "    # Flag set to evaluation\n",
        "    net2.eval()\n",
        "    outputs,_ = net2(input_batch_torch) \n",
        "    \n",
        "    # Evaluation loss and accuracy calculation\n",
        "    loss = criterion(outputs, target_batch_torch)\n",
        "    _, predicted = torch.max(outputs, 1)\n",
        "    acc= accuracy_score(predicted.cpu().numpy(),target_batch_torch.cpu().numpy())\n",
        "\n",
        "    if epoch%10==9:\n",
        "      print('Epoch: %d, loss: %.5f, train_acc: %.2f' %(epoch + 1, loss.item(), acc))\n",
        "\n",
        "print('Finished Training')"
      ],
      "execution_count": 57,
      "outputs": [
        {
          "output_type": "stream",
          "text": [
            "Epoch: 10, loss: 0.66929, train_acc: 0.60\n",
            "Epoch: 20, loss: 0.69807, train_acc: 0.39\n",
            "Epoch: 30, loss: 0.68891, train_acc: 0.57\n",
            "Epoch: 40, loss: 0.69077, train_acc: 0.61\n",
            "Epoch: 50, loss: 0.69276, train_acc: 0.50\n",
            "Epoch: 60, loss: 0.68599, train_acc: 0.58\n",
            "Epoch: 70, loss: 0.69116, train_acc: 0.49\n",
            "Epoch: 80, loss: 0.69640, train_acc: 0.45\n",
            "Epoch: 90, loss: 0.69149, train_acc: 0.51\n",
            "Epoch: 100, loss: 0.68667, train_acc: 0.54\n",
            "Epoch: 110, loss: 0.69112, train_acc: 0.49\n",
            "Epoch: 120, loss: 0.68592, train_acc: 0.57\n",
            "Epoch: 130, loss: 0.69437, train_acc: 0.48\n",
            "Epoch: 140, loss: 0.69031, train_acc: 0.53\n",
            "Epoch: 150, loss: 0.68679, train_acc: 0.58\n",
            "Epoch: 160, loss: 0.68759, train_acc: 0.55\n",
            "Epoch: 170, loss: 0.70409, train_acc: 0.43\n",
            "Epoch: 180, loss: 0.68486, train_acc: 0.55\n",
            "Epoch: 190, loss: 0.69003, train_acc: 0.55\n",
            "Epoch: 200, loss: 0.67878, train_acc: 0.56\n",
            "Epoch: 210, loss: 0.69326, train_acc: 0.54\n",
            "Epoch: 220, loss: 0.68033, train_acc: 0.54\n",
            "Epoch: 230, loss: 0.69339, train_acc: 0.51\n",
            "Epoch: 240, loss: 0.70698, train_acc: 0.50\n",
            "Epoch: 250, loss: 0.69423, train_acc: 0.50\n",
            "Epoch: 260, loss: 0.68412, train_acc: 0.56\n",
            "Epoch: 270, loss: 0.69333, train_acc: 0.46\n",
            "Epoch: 280, loss: 0.68476, train_acc: 0.54\n",
            "Epoch: 290, loss: 0.68745, train_acc: 0.49\n",
            "Epoch: 300, loss: 0.69647, train_acc: 0.51\n",
            "Epoch: 310, loss: 0.66976, train_acc: 0.60\n",
            "Epoch: 320, loss: 0.78245, train_acc: 0.57\n",
            "Epoch: 330, loss: 0.69494, train_acc: 0.53\n",
            "Epoch: 340, loss: 0.69600, train_acc: 0.52\n",
            "Epoch: 350, loss: 0.68225, train_acc: 0.59\n",
            "Epoch: 360, loss: 0.68979, train_acc: 0.49\n",
            "Epoch: 370, loss: 0.68230, train_acc: 0.61\n",
            "Epoch: 380, loss: 0.70023, train_acc: 0.51\n",
            "Epoch: 390, loss: 0.68034, train_acc: 0.57\n",
            "Epoch: 400, loss: 0.67688, train_acc: 0.59\n",
            "Epoch: 410, loss: 0.67411, train_acc: 0.59\n",
            "Epoch: 420, loss: 0.87504, train_acc: 0.49\n",
            "Epoch: 430, loss: 0.70947, train_acc: 0.49\n",
            "Epoch: 440, loss: 0.69581, train_acc: 0.51\n",
            "Epoch: 450, loss: 0.70663, train_acc: 0.42\n",
            "Epoch: 460, loss: 0.68597, train_acc: 0.52\n",
            "Epoch: 470, loss: 0.68163, train_acc: 0.66\n",
            "Epoch: 480, loss: 0.68655, train_acc: 0.57\n",
            "Epoch: 490, loss: 0.68963, train_acc: 0.54\n",
            "Epoch: 500, loss: 0.67340, train_acc: 0.64\n",
            "Epoch: 510, loss: 0.67938, train_acc: 0.56\n",
            "Epoch: 520, loss: 0.68325, train_acc: 0.55\n",
            "Epoch: 530, loss: 0.67911, train_acc: 0.54\n",
            "Epoch: 540, loss: 0.64693, train_acc: 0.63\n",
            "Epoch: 550, loss: 0.69520, train_acc: 0.51\n",
            "Epoch: 560, loss: 0.67307, train_acc: 0.63\n",
            "Epoch: 570, loss: 0.66298, train_acc: 0.59\n",
            "Epoch: 580, loss: 0.64590, train_acc: 0.66\n",
            "Epoch: 590, loss: 0.70690, train_acc: 0.52\n",
            "Epoch: 600, loss: 0.69048, train_acc: 0.59\n",
            "Epoch: 610, loss: 0.68901, train_acc: 0.54\n",
            "Epoch: 620, loss: 0.67452, train_acc: 0.59\n",
            "Epoch: 630, loss: 0.68236, train_acc: 0.54\n",
            "Epoch: 640, loss: 0.68308, train_acc: 0.59\n",
            "Epoch: 650, loss: 0.64475, train_acc: 0.63\n",
            "Epoch: 660, loss: 0.67104, train_acc: 0.58\n",
            "Epoch: 670, loss: 0.69387, train_acc: 0.51\n",
            "Epoch: 680, loss: 0.67460, train_acc: 0.55\n",
            "Epoch: 690, loss: 0.66884, train_acc: 0.56\n",
            "Epoch: 700, loss: 0.68665, train_acc: 0.48\n",
            "Epoch: 710, loss: 0.66847, train_acc: 0.59\n",
            "Epoch: 720, loss: 0.66414, train_acc: 0.60\n",
            "Epoch: 730, loss: 0.66980, train_acc: 0.52\n",
            "Epoch: 740, loss: 0.65789, train_acc: 0.63\n",
            "Epoch: 750, loss: 0.66012, train_acc: 0.61\n",
            "Epoch: 760, loss: 0.64099, train_acc: 0.67\n",
            "Epoch: 770, loss: 0.65479, train_acc: 0.63\n",
            "Epoch: 780, loss: 0.65724, train_acc: 0.61\n",
            "Epoch: 790, loss: 0.61253, train_acc: 0.70\n",
            "Epoch: 800, loss: 0.64402, train_acc: 0.67\n",
            "Epoch: 810, loss: 0.60559, train_acc: 0.67\n",
            "Epoch: 820, loss: 0.62924, train_acc: 0.62\n",
            "Epoch: 830, loss: 0.59531, train_acc: 0.65\n",
            "Epoch: 840, loss: 0.55059, train_acc: 0.76\n",
            "Epoch: 850, loss: 0.57677, train_acc: 0.74\n",
            "Epoch: 860, loss: 0.62338, train_acc: 0.58\n",
            "Epoch: 870, loss: 0.66869, train_acc: 0.60\n",
            "Epoch: 880, loss: 0.57067, train_acc: 0.67\n",
            "Epoch: 890, loss: 0.61051, train_acc: 0.66\n",
            "Epoch: 900, loss: 0.54668, train_acc: 0.73\n",
            "Epoch: 910, loss: 0.58767, train_acc: 0.68\n",
            "Epoch: 920, loss: 0.58968, train_acc: 0.66\n",
            "Epoch: 930, loss: 0.55075, train_acc: 0.72\n",
            "Epoch: 940, loss: 0.47889, train_acc: 0.74\n",
            "Epoch: 950, loss: 0.47900, train_acc: 0.75\n",
            "Epoch: 960, loss: 0.58642, train_acc: 0.66\n",
            "Epoch: 970, loss: 0.58387, train_acc: 0.68\n",
            "Epoch: 980, loss: 0.57806, train_acc: 0.71\n",
            "Epoch: 990, loss: 0.54741, train_acc: 0.73\n",
            "Epoch: 1000, loss: 0.52047, train_acc: 0.78\n",
            "Finished Training\n"
          ],
          "name": "stdout"
        }
      ]
    },
    {
      "cell_type": "markdown",
      "metadata": {
        "id": "-2feNpG-LZx2",
        "colab_type": "text"
      },
      "source": [
        "### 2.3.4. Save Sequence Model"
      ]
    },
    {
      "cell_type": "code",
      "metadata": {
        "id": "sflUAgV4L1o8",
        "colab_type": "code",
        "colab": {
          "base_uri": "https://localhost:8080/",
          "height": 51
        },
        "outputId": "4db2ac02-9c29-4e07-f923-19491acf9c59"
      },
      "source": [
        "torch.save(net2, \"gdrive/My Drive/NLP Assignment 1/sequence_model.pt\")"
      ],
      "execution_count": 58,
      "outputs": [
        {
          "output_type": "stream",
          "text": [
            "/usr/local/lib/python3.6/dist-packages/torch/serialization.py:360: UserWarning: Couldn't retrieve source code for container of type SeqNet. It won't be checked for correctness upon loading.\n",
            "  \"type \" + obj.__name__ + \". It won't be checked \"\n"
          ],
          "name": "stderr"
        }
      ]
    },
    {
      "cell_type": "markdown",
      "metadata": {
        "id": "4zFo6YppL6w3",
        "colab_type": "text"
      },
      "source": [
        "### 2.3.5. Load Sequence Model"
      ]
    },
    {
      "cell_type": "code",
      "metadata": {
        "id": "OtNxLzDGMCan",
        "colab_type": "code",
        "colab": {}
      },
      "source": [
        "seq_model = torch.load(\"gdrive/My Drive/NLP Assignment 1/sequence_model.pt\")"
      ],
      "execution_count": 0,
      "outputs": []
    },
    {
      "cell_type": "markdown",
      "metadata": {
        "id": "a4mpRpocePLN",
        "colab_type": "text"
      },
      "source": [
        "# 3 - Evaluation\n"
      ]
    },
    {
      "cell_type": "markdown",
      "metadata": {
        "id": "KEW1zMgVMREr",
        "colab_type": "text"
      },
      "source": [
        "## 3.1. Performance Evaluation\n",
        "\n",
        ">The sequence model trained in previous section is run using the test dataset to obtain the classification report.\n",
        "\n",
        ">The test inputs are randomly sampled to be a subset of 100 reviews from the lemmatized review data, and the embeddings are mapped for each of the word from the review. \n",
        "\n",
        ">The target labels are also looked up for the corresponding reviews and set as the target batch.\n",
        "\n",
        ">Classification report is generated using the test-labels as true value and predicted labels from the test-inputs as predicted value. sklearn.metrics are used for getting the metrics like the classification report and f1-score."
      ]
    },
    {
      "cell_type": "code",
      "metadata": {
        "id": "LPHCb-bneTI9",
        "colab_type": "code",
        "colab": {
          "base_uri": "https://localhost:8080/",
          "height": 170
        },
        "outputId": "08f6651d-600e-4c9e-c9b9-2f05cf57d7f3"
      },
      "source": [
        "from sklearn.metrics import classification_report\n",
        "\n",
        "sent_list_batched_test = sample(reviews_test_le,100)\n",
        "max_sent_length = len(max(reviews_test_le, key = len))  #Setting max_sent_length from test data for paddings\n",
        "seq_test_input, seq_test_target = sent_batch(sent_list_batched_test)\n",
        "test_input_batch_torch = torch.from_numpy(np.array(seq_test_input)).float().to(device)\n",
        "test_target_batch_torch = torch.from_numpy(np.array(seq_test_target)).view(-1).to(device)\n",
        "\n",
        "seq_model.eval()\n",
        "outputs,_ = seq_model(test_input_batch_torch) \n",
        "_,predicted = torch.max(outputs, 1)\n",
        "\n",
        "print(classification_report(test_target_batch_torch.cpu(),predicted.cpu().numpy()))"
      ],
      "execution_count": 60,
      "outputs": [
        {
          "output_type": "stream",
          "text": [
            "              precision    recall  f1-score   support\n",
            "\n",
            "           0       0.64      0.60      0.62        50\n",
            "           1       0.62      0.66      0.64        50\n",
            "\n",
            "    accuracy                           0.63       100\n",
            "   macro avg       0.63      0.63      0.63       100\n",
            "weighted avg       0.63      0.63      0.63       100\n",
            "\n"
          ],
          "name": "stdout"
        }
      ]
    },
    {
      "cell_type": "markdown",
      "metadata": {
        "id": "P28Z1k36MZuo",
        "colab_type": "text"
      },
      "source": [
        "## 3.2. Hyperparameter Testing\n",
        "\n",
        ">A list is created for learning rates of 0.001, 0.005 and 0.01.\n",
        "\n",
        ">A random sample of 100 reviews (due to crashing memory problem) is taken up in each epoch to generate the input batches. The input batch is padded according to the max_sent_length which has been modified here to be equal to the maximum length of review in the train set and each word is mapped to the concatenated embeddings of that word. The target labels are also looked up for the corresponding reviews and set as the target batch. \n",
        ">>The similar has been done for the test inputs and labels as well to calculate the f1-scores in the evaluation flag.\n",
        "\n",
        ">Two list of lists are created containing epochs values and f1-scores for each run over the different learning rates.\n",
        "\n",
        ">f1-scores are calculating by averaging the two f1-scores obtained for the two labels.\n",
        "\n",
        ">Also, after each run of the model for a particular learning rate for 500 epochs, classification report of the model has also been printed corresponding to that particular epoch.\n",
        "\n",
        ">Three graphs corresponding to each learning rate are thereafter plotted from the list of lists created for epochs and f1-score, namely x_epochs and y_f1 using matplotlib.pyplot."
      ]
    },
    {
      "cell_type": "code",
      "metadata": {
        "id": "wTLyQEeZMZ2f",
        "colab_type": "code",
        "colab": {
          "base_uri": "https://localhost:8080/",
          "height": 1000
        },
        "outputId": "60648094-cd4c-432c-8624-3713c3cb10b3"
      },
      "source": [
        "from sklearn.metrics import f1_score\n",
        "\n",
        "learning_rates = [0.01,0.005,0.001]\n",
        "\n",
        "x_epochs = [[]]\n",
        "y_f1 = [[]]\n",
        "\n",
        "for rate in learning_rates:\n",
        "  optimizer = optim.Adam(net2.parameters(), lr=rate)\n",
        "  print('\\n \\n \\n \\n \\n For learning rate:',rate)\n",
        "  x=[]\n",
        "  y=[]\n",
        "  for epoch in range(500):\n",
        "\n",
        "    sent_list_batched_train = sample(reviews_train_le,100)\n",
        "    max_sent_length = len(max(reviews_train_le, key = len)) #Setting max_sent_length from train data for paddings\n",
        "    seq_train_input, seq_train_target = sent_batch(sent_list_batched_train)\n",
        "    train_input_batch_torch = torch.from_numpy(np.array(seq_train_input)).float().to(device)\n",
        "    train_target_batch_torch = torch.from_numpy(np.array(seq_train_target)).view(-1).to(device)\n",
        "\n",
        "    sent_list_batched_test = sample(reviews_test_le,100)\n",
        "    max_sent_length = len(max(reviews_test_le, key = len)) #Setting max_sent_length from test data for paddings\n",
        "    seq_test_input, seq_test_target = sent_batch(sent_list_batched_test)\n",
        "    test_input_batch_torch = torch.from_numpy(np.array(seq_test_input)).to(device)\n",
        "    test_target_batch_torch = torch.from_numpy(np.array(seq_test_target)).view(-1).to(device)\n",
        "\n",
        "    #Flag set to train\n",
        "    seq_model.train()\n",
        "\n",
        "    outputs,_ = seq_model(train_input_batch_torch) \n",
        "    loss = criterion(outputs, train_target_batch_torch)\n",
        "    loss.backward()\n",
        "    optimizer.step()\n",
        "    optimizer.zero_grad()\n",
        "\n",
        "    #Setting flag to evaluation and calculating the prediction performance on test set as well\n",
        "    seq_model.eval()\n",
        "    outputs,_ = seq_model(test_input_batch_torch) \n",
        "    loss = criterion(outputs, test_target_batch_torch)   \n",
        "    _, predicted = torch.max(outputs, 1)\n",
        "    f1_pos = f1_score(test_target_batch_torch.cpu(),predicted.cpu().numpy(),pos_label=0)\n",
        "    f1_neg = f1_score(test_target_batch_torch.cpu(),predicted.cpu().numpy(),pos_label=1)\n",
        "    f1_epoch = (f1_pos+f1_neg)/2\n",
        "\n",
        "    if epoch%50==49:\n",
        "      print(epoch+1,loss.item(),f1_epoch)\n",
        "\n",
        "    if epoch%20==19:\n",
        "      x.append(epoch)\n",
        "      y.append(f1_epoch)  \n",
        "  \n",
        "  print(\"For Learning rate =\", rate, '\\n', classification_report(test_target_batch_torch.cpu(),predicted.cpu().numpy()))\n",
        "  x_epochs.append(x)\n",
        "  y_f1.append(y)\n",
        "print(\"Finish\")"
      ],
      "execution_count": 76,
      "outputs": [
        {
          "output_type": "stream",
          "text": [
            "\n",
            " \n",
            " \n",
            " \n",
            " \n",
            " For learning rate: 0.01\n",
            "50 0.5800663232803345 0.6892230576441103\n",
            "100 0.5514218807220459 0.6798719487795117\n",
            "150 0.49780726432800293 0.7796474358974359\n",
            "200 0.6033650040626526 0.7033248081841432\n",
            "250 0.5523039102554321 0.6767676767676768\n",
            "300 0.673504114151001 0.6269785260610948\n",
            "350 0.636631190776825 0.6328029375764994\n",
            "400 0.6148430705070496 0.6347402597402597\n",
            "450 0.5190352201461792 0.7297567811029926\n",
            "500 0.5575493574142456 0.7348021215830273\n",
            "For Learning rate = 0.01 \n",
            "               precision    recall  f1-score   support\n",
            "\n",
            "           0       0.71      0.68      0.70        44\n",
            "           1       0.76      0.79      0.77        56\n",
            "\n",
            "    accuracy                           0.74       100\n",
            "   macro avg       0.74      0.73      0.73       100\n",
            "weighted avg       0.74      0.74      0.74       100\n",
            "\n",
            "\n",
            " \n",
            " \n",
            " \n",
            " \n",
            " For learning rate: 0.005\n",
            "50 0.5260639786720276 0.7777777777777778\n",
            "100 0.5821051001548767 0.7159090909090908\n",
            "150 0.5475946664810181 0.7266929851199515\n",
            "200 0.48272669315338135 0.7999199679871949\n",
            "250 0.5836255550384521 0.6587715776796468\n",
            "300 0.5309248566627502 0.7479584635547938\n",
            "350 0.5216297507286072 0.6899545266639107\n",
            "400 0.494233101606369 0.7398959583833533\n",
            "450 0.5625311136245728 0.6496847162446202\n",
            "500 0.6135130524635315 0.7293233082706766\n",
            "For Learning rate = 0.005 \n",
            "               precision    recall  f1-score   support\n",
            "\n",
            "           0       0.78      0.71      0.74        55\n",
            "           1       0.68      0.76      0.72        45\n",
            "\n",
            "    accuracy                           0.73       100\n",
            "   macro avg       0.73      0.73      0.73       100\n",
            "weighted avg       0.73      0.73      0.73       100\n",
            "\n",
            "\n",
            " \n",
            " \n",
            " \n",
            " \n",
            " For learning rate: 0.001\n",
            "50 0.5396730899810791 0.7085720028137876\n",
            "100 0.5756822824478149 0.6594551282051282\n",
            "150 0.5339117050170898 0.7383252818035426\n",
            "200 0.515015184879303 0.72997299729973\n",
            "250 0.6083664298057556 0.6398559423769508\n",
            "300 0.5522601008415222 0.7383252818035426\n",
            "350 0.5554015636444092 0.7195512820512822\n",
            "400 0.6298114657402039 0.639423076923077\n",
            "450 0.5657551288604736 0.6862030569895738\n",
            "500 0.5999453067779541 0.6788438378161381\n",
            "For Learning rate = 0.001 \n",
            "               precision    recall  f1-score   support\n",
            "\n",
            "           0       0.72      0.61      0.66        51\n",
            "           1       0.65      0.76      0.70        49\n",
            "\n",
            "    accuracy                           0.68       100\n",
            "   macro avg       0.69      0.68      0.68       100\n",
            "weighted avg       0.69      0.68      0.68       100\n",
            "\n",
            "Finish\n"
          ],
          "name": "stdout"
        }
      ]
    },
    {
      "cell_type": "code",
      "metadata": {
        "id": "cKKuOCxXuMKw",
        "colab_type": "code",
        "colab": {
          "base_uri": "https://localhost:8080/",
          "height": 851
        },
        "outputId": "3a5283f2-6511-49df-97f6-7fc00d1b9bf0"
      },
      "source": [
        "import matplotlib.pyplot as plt\n",
        "\n",
        "plt.title(\"Learning rate = 0.01\")\n",
        "plt.plot(x_epochs[1], y_f1[1])\n",
        "plt.xlabel('Epochs')\n",
        "plt.ylabel('F1-score')\n",
        "plt.show()\n",
        "\n",
        "plt.title(\"Learning rate = 0.005\")\n",
        "plt.plot(x_epochs[2], y_f1[2])\n",
        "plt.xlabel('Epochs')\n",
        "plt.ylabel('F1-score')\n",
        "plt.show()\n",
        "\n",
        "plt.title(\"Learning rate = 0.001\")\n",
        "plt.plot(x_epochs[3], y_f1[3])\n",
        "plt.xlabel('Epochs')\n",
        "plt.ylabel('F1-score')\n",
        "plt.show()"
      ],
      "execution_count": 77,
      "outputs": [
        {
          "output_type": "display_data",
          "data": {
            "image/png": "[encoded data removed]",
            "text/plain": [
              "<Figure size 432x288 with 1 Axes>"
            ]
          },
          "metadata": {
            "tags": [],
            "needs_background": "light"
          }
        },
        {
          "output_type": "display_data",
          "data": {
            "image/png": "[encoded data removed]",
            "text/plain": [
              "<Figure size 432x288 with 1 Axes>"
            ]
          },
          "metadata": {
            "tags": [],
            "needs_background": "light"
          }
        },
        {
          "output_type": "display_data",
          "data": {
            "image/png": "[encoded data removed]",
            "text/plain": [
              "<Figure size 432x288 with 1 Axes>"
            ]
          },
          "metadata": {
            "tags": [],
            "needs_background": "light"
          }
        }
      ]
    },
    {
      "cell_type": "markdown",
      "metadata": {
        "id": "sfv8rWTKPzeb",
        "colab_type": "text"
      },
      "source": [
        "## Object Oriented Programming codes here"
      ]
    },
    {
      "cell_type": "markdown",
      "metadata": {
        "id": "TS23AjBRSZaX",
        "colab_type": "text"
      },
      "source": [
        "*You can use multiple code snippets. Just add more if needed* "
      ]
    },
    {
      "cell_type": "code",
      "metadata": {
        "colab_type": "code",
        "id": "1hVmx4E52dXS",
        "colab": {}
      },
      "source": [
        "# If you used OOP style, use this section"
      ],
      "execution_count": 0,
      "outputs": []
    },
    {
      "cell_type": "code",
      "metadata": {
        "id": "ABLJJrM0YxsH",
        "colab_type": "code",
        "colab": {}
      },
      "source": [
        ""
      ],
      "execution_count": 0,
      "outputs": []
    }
  ]
}